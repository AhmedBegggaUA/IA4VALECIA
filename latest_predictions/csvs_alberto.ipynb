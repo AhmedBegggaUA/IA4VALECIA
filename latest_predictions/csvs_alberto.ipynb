{
 "cells": [
  {
   "cell_type": "code",
   "execution_count": 4,
   "metadata": {},
   "outputs": [],
   "source": [
    "import pandas as pd\n",
    "import numpy as np\n",
    "import datetime\n",
    "import os\n",
    "import sys\n",
    "import warnings\n",
    "warnings.filterwarnings('ignore')\n",
    "\n",
    "# Modelo H7 waning de casos \n",
    "path_to_h7_waning = 'h7_waning_casos'\n",
    "lista_h7_waning = []\n",
    "for i in os.listdir(path_to_h7_waning):\n",
    "    if i == 'H7_waning_casos_2021_1.csv' or i == 'H7_waning_casos_2021_2.csv' or i == 'H7_waning_casos_2021_3.csv' or i == 'H7_waning_casos_2021_4.csv':\n",
    "        df = pd.read_csv(path_to_h7_waning + '/' + i)\n",
    "        lista_h7_waning.append(df)\n",
    "df_h7_waning = pd.concat(lista_h7_waning)\n",
    "# Sort by country Name and Date\n",
    "df_h7_waning = df_h7_waning.sort_values(by=['CountryName', 'fecha'])\n",
    "# Reset index\n",
    "df_h7_waning = df_h7_waning.reset_index(drop=True)\n",
    "# Guardamos el df\n",
    "df_h7_waning.to_csv('df_h7_waning_casos_1_4.csv', index=False)"
   ]
  },
  {
   "cell_type": "code",
   "execution_count": 5,
   "metadata": {},
   "outputs": [],
   "source": [
    "# Modelo H7 waning de casos \n",
    "path_to_h7_waning = 'h7_waning_casos_vacunas'\n",
    "lista_h7_waning = []\n",
    "for i in os.listdir(path_to_h7_waning):\n",
    "    if i == 'H7_waning_casos_vacunas_2021_1.csv' or i == 'H7_waning_casos_vacunas_2021_2.csv' or i == 'H7_waning_casos_vacunas_2021_3.csv' or i == 'H7_waning_casos_vacunas_2021_4.csv':\n",
    "        df = pd.read_csv(path_to_h7_waning + '/' + i)\n",
    "        lista_h7_waning.append(df)\n",
    "df_h7_waning = pd.concat(lista_h7_waning)\n",
    "# Sort by country Name and Date\n",
    "df_h7_waning = df_h7_waning.sort_values(by=['CountryName', 'fecha'])\n",
    "# Reset index\n",
    "df_h7_waning = df_h7_waning.reset_index(drop=True)\n",
    "# Guardamos el df\n",
    "df_h7_waning.to_csv('df_h7_waning_casos_vacunas_1_4.csv', index=False)"
   ]
  },
  {
   "cell_type": "code",
   "execution_count": 6,
   "metadata": {},
   "outputs": [],
   "source": [
    "# Modelo H7 waning de casos \n",
    "path_to_h7_waning = 'None_waning_casos'\n",
    "lista_h7_waning = []\n",
    "for i in os.listdir(path_to_h7_waning):\n",
    "    if i == 'None_waning_casos_2021_1.csv' or i == 'None_waning_casos_2021_2.csv' or i == 'None_waning_casos_2021_3.csv' or i == 'None_waning_casos_2021_4.csv':\n",
    "        df = pd.read_csv(path_to_h7_waning + '/' + i)\n",
    "        lista_h7_waning.append(df)\n",
    "df_h7_waning = pd.concat(lista_h7_waning)\n",
    "# Sort by country Name and Date\n",
    "df_h7_waning = df_h7_waning.sort_values(by=['CountryName', 'fecha'])\n",
    "# Reset index\n",
    "df_h7_waning = df_h7_waning.reset_index(drop=True)\n",
    "# Guardamos el df\n",
    "df_h7_waning.to_csv('df_None_waning_casos_1_4.csv', index=False)"
   ]
  },
  {
   "cell_type": "code",
   "execution_count": 7,
   "metadata": {},
   "outputs": [],
   "source": [
    "# Modelo H7 waning de casos \n",
    "path_to_h7_waning = 'None_waning_casos_vacunas'\n",
    "lista_h7_waning = []\n",
    "for i in os.listdir(path_to_h7_waning):\n",
    "    if i == 'None_waning_casos_vacunas_2021_1.csv' or i == 'None_waning_casos_vacunas_2021_2.csv' or i == 'None_waning_casos_vacunas_2021_3.csv' or i == 'None_waning_casos_vacunas_2021_4.csv':\n",
    "        df = pd.read_csv(path_to_h7_waning + '/' + i)\n",
    "        lista_h7_waning.append(df)\n",
    "df_h7_waning = pd.concat(lista_h7_waning)\n",
    "# Sort by country Name and Date\n",
    "df_h7_waning = df_h7_waning.sort_values(by=['CountryName', 'fecha'])\n",
    "# Reset index\n",
    "df_h7_waning = df_h7_waning.reset_index(drop=True)\n",
    "# Guardamos el df\n",
    "df_h7_waning.to_csv('df_None_waning_casos_vacunas_1_4.csv', index=False)"
   ]
  },
  {
   "cell_type": "code",
   "execution_count": 8,
   "metadata": {},
   "outputs": [],
   "source": [
    "# Modelo H7 waning de casos \n",
    "path_to_h7_waning = 'xprize_all'\n",
    "lista_h7_waning = []\n",
    "for i in os.listdir(path_to_h7_waning):\n",
    "    if i == 'NONE_xprice_2021_1.csv' or i == 'NONE_xprice_2021_2.csv' or i == 'NONE_xprice_2021_3.csv' or i == 'NONE_xprice_2021_4.csv':\n",
    "        df = pd.read_csv(path_to_h7_waning + '/' + i)\n",
    "        lista_h7_waning.append(df)\n",
    "df_h7_waning = pd.concat(lista_h7_waning)\n",
    "# Sort by country Name and Date\n",
    "df_h7_waning = df_h7_waning.sort_values(by=['CountryName', 'fecha'])\n",
    "# Reset index\n",
    "df_h7_waning = df_h7_waning.reset_index(drop=True)\n",
    "# Guardamos el df\n",
    "df_h7_waning.to_csv('df_NONE_xprice_1_4.csv', index=False)"
   ]
  }
 ],
 "metadata": {
  "kernelspec": {
   "display_name": "linegraph",
   "language": "python",
   "name": "python3"
  },
  "language_info": {
   "codemirror_mode": {
    "name": "ipython",
    "version": 3
   },
   "file_extension": ".py",
   "mimetype": "text/x-python",
   "name": "python",
   "nbconvert_exporter": "python",
   "pygments_lexer": "ipython3",
   "version": "3.8.13"
  },
  "orig_nbformat": 4
 },
 "nbformat": 4,
 "nbformat_minor": 2
}
